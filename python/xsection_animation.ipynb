{
 "cells": [
  {
   "cell_type": "code",
   "execution_count": 1,
   "metadata": {
    "collapsed": true
   },
   "outputs": [],
   "source": [
    "import numpy as np\n",
    "import matplotlib.pyplot as plt\n",
    "from netCDF4 import Dataset\n",
    "import glob\n",
    "%matplotlib inline"
   ]
  },
  {
   "cell_type": "code",
   "execution_count": 3,
   "metadata": {},
   "outputs": [],
   "source": [
    "fns = sorted(glob.glob('/mnt/datatmp/visualize/andrew/BOMEX/*.nc'))\n",
    "\n",
    "files = []\n",
    "for fn in fns:\n",
    "    files.append(Dataset(fn))\n",
    "    \n",
    "lvl1 = 4\n",
    "lvl2 = 25\n",
    "    \n",
    "plumes = []\n",
    "condensed = []\n",
    "for f in files:\n",
    "    plumes.append(f['plume'][lvl1])\n",
    "    condensed.append(np.where(f['condensed'][lvl2] > 0, 1, 0))\n",
    "    \n",
    "x, y = np.meshgrid(files[0]['x'],files[0]['y'])\n",
    "z1 = files[0]['z'][lvl1]\n",
    "z2 = files[0]['z'][lvl2]\n",
    "\n",
    "    \n",
    "for i in range(0,len(plumes)):\n",
    "    plt.close('all')\n",
    "    fig, ax = plt.subplots(1,1,figsize=[12,12])\n",
    "    \n",
    "    plumeplot = ax.pcolormesh(x, y, plumes[i].transpose(), cmap='coolwarm')\n",
    "    condplot = ax.pcolormesh(x, y, condensed[i].transpose(), cmap='Greys', alpha = 0.1)\n",
    "    out = ax.set(title='Cross section of Plume at {} m and Condensed at {} m at Minute {}'.format(z1,z2,i),\n",
    "                 xlabel='X (m)', ylabel='Y (m)')\n",
    "    plt.savefig('/mnt/datatmp/visualize/andrew/mpl_images/plume_cond_xsection_{:04d}.png'.format(i), dpi='figure',\n",
    "                facecolor='w', edgecolor='k', orientation='portrait', papertype=None, format=None,\n",
    "                transparent=False, bbox_inches='tight', pad_inches=0.1, frameon=None)\n",
    "    \n",
    "plt.close('all')"
   ]
  },
  {
   "cell_type": "code",
   "execution_count": null,
   "metadata": {
    "collapsed": true
   },
   "outputs": [],
   "source": []
  }
 ],
 "metadata": {
  "kernelspec": {
   "display_name": "Python 3",
   "language": "python",
   "name": "python3"
  },
  "language_info": {
   "codemirror_mode": {
    "name": "ipython",
    "version": 3
   },
   "file_extension": ".py",
   "mimetype": "text/x-python",
   "name": "python",
   "nbconvert_exporter": "python",
   "pygments_lexer": "ipython3",
   "version": "3.6.1"
  }
 },
 "nbformat": 4,
 "nbformat_minor": 2
}
