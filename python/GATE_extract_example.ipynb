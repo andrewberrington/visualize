{
 "cells": [
  {
   "cell_type": "code",
   "execution_count": 1,
   "metadata": {
    "collapsed": true
   },
   "outputs": [],
   "source": [
    "import numpy as np\n",
    "import glob\n",
    "from netCDF4 import Dataset\n",
    "import pickle\n",
    "import coord_to_zyx as ctz"
   ]
  },
  {
   "cell_type": "code",
   "execution_count": 2,
   "metadata": {
    "collapsed": true
   },
   "outputs": [],
   "source": [
    "pickle_list = sorted(glob.glob('/nodessd/phil/clusters/andrew/pickle_large/*clusters'))\n",
    "var_list = sorted(glob.glob(f'/newtera/loh/data/GATE/variables/*.nc'))\n",
    "entrain_list = sorted(glob.glob('/newtera/loh/data/GATE/core_entrain/*.nc'))\n",
    "\n",
    "ids = []\n",
    "for f in var_list:\n",
    "    name = f.split('_')\n",
    "    number = name[-1].split('.')\n",
    "    ids.append(int(number[0][-5:]))\n",
    "\n",
    "numbers = []\n",
    "for a_file in pickle_list:\n",
    "    parts = a_file.split('_')\n",
    "    numbers.append(int(parts[1].split('/')[1]))\n",
    "\n",
    "selection = []\n",
    "ent_selection = []\n",
    "for the_index, n in enumerate(ids):\n",
    "    for the_num in numbers:\n",
    "        if n == the_num:\n",
    "            selection.append(var_list[the_index])\n",
    "            ent_selection.append(entrain_list[the_index])\n",
    "\n",
    "coords = []\n",
    "for the_file in pickle_list:\n",
    "    with open(the_file, 'rb') as f:\n",
    "        coords.append(pickle.load(f))\n",
    "\n",
    "z, y, x = ctz.index_to_zyx(coords, 320, 1728, 1728)\n",
    "num_ts = 1\n",
    "y_min = []\n",
    "x_min = []\n",
    "y_max = []\n",
    "x_max = []\n",
    "x_mean = []\n",
    "y_mean = []\n",
    "\n",
    "num_clus = 15\n",
    "\n",
    "for i in range(0,num_ts):\n",
    "    for j in range(0, num_clus):\n",
    "        y_min.append(np.amin(y[i][j]))\n",
    "        x_min.append(np.amin(x[i][j]))\n",
    "        y_max.append(np.amax(y[i][j]))\n",
    "        x_max.append(np.amax(x[i][j]))\n",
    "        y_mean.append(np.mean(y[i][j]))\n",
    "        x_mean.append(np.mean(x[i][j]))\n",
    "        \n",
    "y_min = np.reshape(y_min, (num_ts,num_clus))\n",
    "x_min = np.reshape(x_min, (num_ts,num_clus))\n",
    "y_max = np.reshape(y_max, (num_ts,num_clus)\n",
    "x_max = np.reshape(x_max, (num_ts,num_clus))\n",
    "y_mean = np.reshape(y_mean, (num_ts,num_clus))\n",
    "x_mean = np.reshape(x_mean, (num_ts,_num_clus))"
   ]
  },
  {
   "cell_type": "code",
   "execution_count": 14,
   "metadata": {
    "collapsed": true
   },
   "outputs": [],
   "source": [
    "time_step = 0\n",
    "index = 0\n",
    "y_section = np.arange(np.amin(y_min[0][time_step])-50, np.amax(y_max[time_step][index])+51)\n",
    "x_section = np.arange(np.amin(x_min[0][time_step])-50, np.amax(x_max[time_step][index])+51)\n",
    "varname = 'QN'\n",
    "\n",
    "QN = []\n",
    "for t_step, the_file in enumerate(selection):\n",
    "    the_in = Dataset(the_file, 'r')\n",
    "    QN.append(the_in[varname][:, y_section, x_section])"
   ]
  },
  {
   "cell_type": "code",
   "execution_count": null,
   "metadata": {
    "collapsed": true
   },
   "outputs": [],
   "source": []
  }
 ],
 "metadata": {
  "kernelspec": {
   "display_name": "Python 3",
   "language": "python",
   "name": "python3"
  },
  "language_info": {
   "codemirror_mode": {
    "name": "ipython",
    "version": 3
   },
   "file_extension": ".py",
   "mimetype": "text/x-python",
   "name": "python",
   "nbconvert_exporter": "python",
   "pygments_lexer": "ipython3",
   "version": "3.6.1"
  }
 },
 "nbformat": 4,
 "nbformat_minor": 2
}
